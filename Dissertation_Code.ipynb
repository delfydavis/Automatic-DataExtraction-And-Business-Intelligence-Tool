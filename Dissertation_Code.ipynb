{
 "cells": [
  {
   "cell_type": "markdown",
   "id": "fba5de65",
   "metadata": {},
   "source": [
    "# IMPORTING LIBRARIES"
   ]
  },
  {
   "cell_type": "code",
   "execution_count": 4,
   "id": "cbd6e268",
   "metadata": {},
   "outputs": [],
   "source": [
    "import matplotlib\n",
    "import matplotlib.pyplot as plt\n",
    "import matplotlib.dates as mdates\n",
    "import warnings\n",
    "import pandas as pd\n",
    "import numpy as np\n",
    "import seaborn as sns\n",
    "import sqlite3\n",
    "from sqlalchemy import *\n",
    "import mysql.connector\n",
    "from pandas.io import sql\n",
    "import timeit\n",
    "from sklearn.model_selection import train_test_split\n",
    "from sklearn import linear_model\n",
    "from sklearn.metrics import mean_squared_error, r2_score\n",
    "%matplotlib inline\n",
    "warnings.filterwarnings('ignore')"
   ]
  },
  {
   "cell_type": "markdown",
   "id": "b65b76ea",
   "metadata": {},
   "source": [
    "## IMPORTING FUNCTIONS FROM MyFunctions_FinalProject"
   ]
  },
  {
   "cell_type": "code",
   "execution_count": 8,
   "id": "f9aac19e",
   "metadata": {},
   "outputs": [],
   "source": [
    "from MyFunction_FinalProject import initial_cleaning,save_to_sqlite,initial_cleaning,save_to_Mysql,save_to_Mariadb,MSQL_con,Mariadb_con,TimeOfExecutionRecording,Dataset_preparation_for_LR_state1,Dataset_preparation_for_LR_stage2,Dataset_preparation_for_LR_stage3_Mapping"
   ]
  },
  {
   "cell_type": "markdown",
   "id": "372cedf1",
   "metadata": {},
   "source": [
    "# PRELIMINARY DATA EXPLORATION"
   ]
  },
  {
   "cell_type": "code",
   "execution_count": 150,
   "id": "2af7b5b6",
   "metadata": {},
   "outputs": [],
   "source": [
    "def bargraph_(df,xd,yd,x_label,y_label,title):\n",
    "    matplotlib.rcParams['figure.figsize']=(8,8)\n",
    "    ax=sns.barplot(x=xd,y=yd,data=df)\n",
    "    ax.bar_label(ax.containers[0])\n",
    "    ax.tick_params(axis=\"x\", rotation=90)\n",
    "    plt.xlabel(x_label)\n",
    "    plt.ylabel(y_label)\n",
    "    plt.title(title)"
   ]
  },
  {
   "cell_type": "code",
   "execution_count": 151,
   "id": "9815bc49",
   "metadata": {},
   "outputs": [],
   "source": [
    "def scatterplotgraph_(xd,yd,x_label,y_label,title,d):\n",
    "    plt.figure(10,figsize=(6,4))\n",
    "    ax=sns.scatterplot(xd,yd)\n",
    "    if d==0:\n",
    "        ax.xaxis.set_major_formatter(mdates.DateFormatter(\"%H:%M:%S\"))\n",
    "    ax.tick_params(axis=\"x\", rotation=45)\n",
    "    plt.xlabel(x_label)\n",
    "    plt.ylabel(y_label)\n",
    "    plt.title(title)\n",
    "    ax.plot()\n",
    "    plt.show()"
   ]
  },
  {
   "cell_type": "code",
   "execution_count": 152,
   "id": "4983fc84",
   "metadata": {},
   "outputs": [],
   "source": [
    "dayoneMessages_df=pd.read_excel('DayOnestationmessages.xlsx') \n",
    "dayonedaily2_df=pd.read_excel('DAYONEDaily2.xlsx')"
   ]
  },
  {
   "cell_type": "code",
   "execution_count": 153,
   "id": "e2c3555d",
   "metadata": {},
   "outputs": [
    {
     "data": {
      "text/html": [
       "<div>\n",
       "<style scoped>\n",
       "    .dataframe tbody tr th:only-of-type {\n",
       "        vertical-align: middle;\n",
       "    }\n",
       "\n",
       "    .dataframe tbody tr th {\n",
       "        vertical-align: top;\n",
       "    }\n",
       "\n",
       "    .dataframe thead th {\n",
       "        text-align: right;\n",
       "    }\n",
       "</style>\n",
       "<table border=\"1\" class=\"dataframe\">\n",
       "  <thead>\n",
       "    <tr style=\"text-align: right;\">\n",
       "      <th></th>\n",
       "      <th>Day One station messages</th>\n",
       "      <th>Unnamed: 1</th>\n",
       "      <th>Unnamed: 2</th>\n",
       "      <th>Unnamed: 3</th>\n",
       "      <th>Unnamed: 4</th>\n",
       "      <th>Unnamed: 5</th>\n",
       "      <th>Unnamed: 6</th>\n",
       "      <th>Unnamed: 7</th>\n",
       "      <th>Unnamed: 8</th>\n",
       "      <th>Unnamed: 9</th>\n",
       "      <th>Unnamed: 10</th>\n",
       "    </tr>\n",
       "  </thead>\n",
       "  <tbody>\n",
       "    <tr>\n",
       "      <th>0</th>\n",
       "      <td>Tue 31 May 2022 10:03</td>\n",
       "      <td>NaN</td>\n",
       "      <td>NaN</td>\n",
       "      <td>NaN</td>\n",
       "      <td>NaN</td>\n",
       "      <td>NaN</td>\n",
       "      <td>NaN</td>\n",
       "      <td>NaN</td>\n",
       "      <td>NaN</td>\n",
       "      <td>NaN</td>\n",
       "      <td>NaN</td>\n",
       "    </tr>\n",
       "    <tr>\n",
       "      <th>1</th>\n",
       "      <td>NaN</td>\n",
       "      <td>NaN</td>\n",
       "      <td>NaN</td>\n",
       "      <td>NaN</td>\n",
       "      <td>NaN</td>\n",
       "      <td>NaN</td>\n",
       "      <td>NaN</td>\n",
       "      <td>NaN</td>\n",
       "      <td>NaN</td>\n",
       "      <td>NaN</td>\n",
       "      <td>NaN</td>\n",
       "    </tr>\n",
       "    <tr>\n",
       "      <th>2</th>\n",
       "      <td>Day One Reasons</td>\n",
       "      <td>NaN</td>\n",
       "      <td>NaN</td>\n",
       "      <td>NaN</td>\n",
       "      <td>NaN</td>\n",
       "      <td>NaN</td>\n",
       "      <td>NaN</td>\n",
       "      <td>NaN</td>\n",
       "      <td>NaN</td>\n",
       "      <td>NaN</td>\n",
       "      <td>NaN</td>\n",
       "    </tr>\n",
       "    <tr>\n",
       "      <th>3</th>\n",
       "      <td>Full Parameters: See Appendix</td>\n",
       "      <td>NaN</td>\n",
       "      <td>NaN</td>\n",
       "      <td>NaN</td>\n",
       "      <td>NaN</td>\n",
       "      <td>NaN</td>\n",
       "      <td>NaN</td>\n",
       "      <td>NaN</td>\n",
       "      <td>NaN</td>\n",
       "      <td>NaN</td>\n",
       "      <td>NaN</td>\n",
       "    </tr>\n",
       "    <tr>\n",
       "      <th>4</th>\n",
       "      <td>D1 Journey Date</td>\n",
       "      <td>D1 Location</td>\n",
       "      <td>D1 Hcode</td>\n",
       "      <td>D1 Planned Activity</td>\n",
       "      <td>D1 Working Time</td>\n",
       "      <td>D1 Working Var</td>\n",
       "      <td>Increased Lateness</td>\n",
       "      <td>Jny Log Message Date</td>\n",
       "      <td>Jny Log Message Title</td>\n",
       "      <td>Jny Log Message Data Label</td>\n",
       "      <td>Jny Log Message Data Value</td>\n",
       "    </tr>\n",
       "    <tr>\n",
       "      <th>5</th>\n",
       "      <td>2022-05-30 00:00:00</td>\n",
       "      <td>ASHFORDI</td>\n",
       "      <td>895R6810</td>\n",
       "      <td>O</td>\n",
       "      <td>00:14:00</td>\n",
       "      <td>269.0</td>\n",
       "      <td>269.0</td>\n",
       "      <td>30/05/2022 00:18:55</td>\n",
       "      <td>5R68 : ASHFORDI : Origin : Late departure</td>\n",
       "      <td>Lateness (sec)</td>\n",
       "      <td>269</td>\n",
       "    </tr>\n",
       "    <tr>\n",
       "      <th>6</th>\n",
       "      <td>2022-05-30 00:00:00</td>\n",
       "      <td>ASHFORDI</td>\n",
       "      <td>895R6810</td>\n",
       "      <td>O</td>\n",
       "      <td>00:14:00</td>\n",
       "      <td>269.0</td>\n",
       "      <td>269.0</td>\n",
       "      <td>30/05/2022 01:03:41</td>\n",
       "      <td>5R68 : ASHFORDI : Station Delay Reason (Origin)</td>\n",
       "      <td>Actual Departure Time</td>\n",
       "      <td>30/05/2022 00:18:29</td>\n",
       "    </tr>\n",
       "  </tbody>\n",
       "</table>\n",
       "</div>"
      ],
      "text/plain": [
       "        Day One station messages   Unnamed: 1 Unnamed: 2           Unnamed: 3  \\\n",
       "0          Tue 31 May 2022 10:03          NaN        NaN                  NaN   \n",
       "1                            NaN          NaN        NaN                  NaN   \n",
       "2                Day One Reasons          NaN        NaN                  NaN   \n",
       "3  Full Parameters: See Appendix          NaN        NaN                  NaN   \n",
       "4                D1 Journey Date  D1 Location   D1 Hcode  D1 Planned Activity   \n",
       "5            2022-05-30 00:00:00     ASHFORDI   895R6810                    O   \n",
       "6            2022-05-30 00:00:00     ASHFORDI   895R6810                    O   \n",
       "\n",
       "        Unnamed: 4      Unnamed: 5          Unnamed: 6            Unnamed: 7  \\\n",
       "0              NaN             NaN                 NaN                   NaN   \n",
       "1              NaN             NaN                 NaN                   NaN   \n",
       "2              NaN             NaN                 NaN                   NaN   \n",
       "3              NaN             NaN                 NaN                   NaN   \n",
       "4  D1 Working Time  D1 Working Var  Increased Lateness  Jny Log Message Date   \n",
       "5         00:14:00           269.0               269.0   30/05/2022 00:18:55   \n",
       "6         00:14:00           269.0               269.0   30/05/2022 01:03:41   \n",
       "\n",
       "                                        Unnamed: 8  \\\n",
       "0                                              NaN   \n",
       "1                                              NaN   \n",
       "2                                              NaN   \n",
       "3                                              NaN   \n",
       "4                            Jny Log Message Title   \n",
       "5        5R68 : ASHFORDI : Origin : Late departure   \n",
       "6  5R68 : ASHFORDI : Station Delay Reason (Origin)   \n",
       "\n",
       "                   Unnamed: 9                 Unnamed: 10  \n",
       "0                         NaN                         NaN  \n",
       "1                         NaN                         NaN  \n",
       "2                         NaN                         NaN  \n",
       "3                         NaN                         NaN  \n",
       "4  Jny Log Message Data Label  Jny Log Message Data Value  \n",
       "5              Lateness (sec)                         269  \n",
       "6       Actual Departure Time         30/05/2022 00:18:29  "
      ]
     },
     "execution_count": 153,
     "metadata": {},
     "output_type": "execute_result"
    }
   ],
   "source": [
    "dayoneMessages_df.head(7)"
   ]
  },
  {
   "cell_type": "code",
   "execution_count": 154,
   "id": "8c6632ee",
   "metadata": {},
   "outputs": [
    {
     "data": {
      "text/html": [
       "<div>\n",
       "<style scoped>\n",
       "    .dataframe tbody tr th:only-of-type {\n",
       "        vertical-align: middle;\n",
       "    }\n",
       "\n",
       "    .dataframe tbody tr th {\n",
       "        vertical-align: top;\n",
       "    }\n",
       "\n",
       "    .dataframe thead th {\n",
       "        text-align: right;\n",
       "    }\n",
       "</style>\n",
       "<table border=\"1\" class=\"dataframe\">\n",
       "  <thead>\n",
       "    <tr style=\"text-align: right;\">\n",
       "      <th></th>\n",
       "      <th>DAYONE Daily 2</th>\n",
       "      <th>Unnamed: 1</th>\n",
       "      <th>Unnamed: 2</th>\n",
       "      <th>Unnamed: 3</th>\n",
       "      <th>Unnamed: 4</th>\n",
       "      <th>Unnamed: 5</th>\n",
       "      <th>Unnamed: 6</th>\n",
       "      <th>Unnamed: 7</th>\n",
       "      <th>Unnamed: 8</th>\n",
       "      <th>Unnamed: 9</th>\n",
       "      <th>...</th>\n",
       "      <th>Unnamed: 18</th>\n",
       "      <th>Unnamed: 19</th>\n",
       "      <th>Unnamed: 20</th>\n",
       "      <th>Unnamed: 21</th>\n",
       "      <th>Unnamed: 22</th>\n",
       "      <th>Unnamed: 23</th>\n",
       "      <th>Unnamed: 24</th>\n",
       "      <th>Unnamed: 25</th>\n",
       "      <th>Unnamed: 26</th>\n",
       "      <th>Unnamed: 27</th>\n",
       "    </tr>\n",
       "  </thead>\n",
       "  <tbody>\n",
       "    <tr>\n",
       "      <th>0</th>\n",
       "      <td>Tue 31 May 2022 10:00</td>\n",
       "      <td>NaN</td>\n",
       "      <td>NaN</td>\n",
       "      <td>NaN</td>\n",
       "      <td>NaN</td>\n",
       "      <td>NaN</td>\n",
       "      <td>NaN</td>\n",
       "      <td>NaN</td>\n",
       "      <td>NaN</td>\n",
       "      <td>NaN</td>\n",
       "      <td>...</td>\n",
       "      <td>NaN</td>\n",
       "      <td>NaN</td>\n",
       "      <td>NaN</td>\n",
       "      <td>NaN</td>\n",
       "      <td>NaN</td>\n",
       "      <td>NaN</td>\n",
       "      <td>NaN</td>\n",
       "      <td>NaN</td>\n",
       "      <td>NaN</td>\n",
       "      <td>NaN</td>\n",
       "    </tr>\n",
       "    <tr>\n",
       "      <th>1</th>\n",
       "      <td>NaN</td>\n",
       "      <td>NaN</td>\n",
       "      <td>NaN</td>\n",
       "      <td>NaN</td>\n",
       "      <td>NaN</td>\n",
       "      <td>NaN</td>\n",
       "      <td>NaN</td>\n",
       "      <td>NaN</td>\n",
       "      <td>NaN</td>\n",
       "      <td>NaN</td>\n",
       "      <td>...</td>\n",
       "      <td>NaN</td>\n",
       "      <td>NaN</td>\n",
       "      <td>NaN</td>\n",
       "      <td>NaN</td>\n",
       "      <td>NaN</td>\n",
       "      <td>NaN</td>\n",
       "      <td>NaN</td>\n",
       "      <td>NaN</td>\n",
       "      <td>NaN</td>\n",
       "      <td>NaN</td>\n",
       "    </tr>\n",
       "    <tr>\n",
       "      <th>2</th>\n",
       "      <td>trains by location</td>\n",
       "      <td>NaN</td>\n",
       "      <td>NaN</td>\n",
       "      <td>NaN</td>\n",
       "      <td>NaN</td>\n",
       "      <td>NaN</td>\n",
       "      <td>NaN</td>\n",
       "      <td>NaN</td>\n",
       "      <td>NaN</td>\n",
       "      <td>NaN</td>\n",
       "      <td>...</td>\n",
       "      <td>NaN</td>\n",
       "      <td>NaN</td>\n",
       "      <td>NaN</td>\n",
       "      <td>NaN</td>\n",
       "      <td>NaN</td>\n",
       "      <td>NaN</td>\n",
       "      <td>NaN</td>\n",
       "      <td>NaN</td>\n",
       "      <td>NaN</td>\n",
       "      <td>NaN</td>\n",
       "    </tr>\n",
       "    <tr>\n",
       "      <th>3</th>\n",
       "      <td>Full Parameters: See Appendix</td>\n",
       "      <td>NaN</td>\n",
       "      <td>NaN</td>\n",
       "      <td>NaN</td>\n",
       "      <td>NaN</td>\n",
       "      <td>NaN</td>\n",
       "      <td>NaN</td>\n",
       "      <td>NaN</td>\n",
       "      <td>NaN</td>\n",
       "      <td>NaN</td>\n",
       "      <td>...</td>\n",
       "      <td>NaN</td>\n",
       "      <td>NaN</td>\n",
       "      <td>NaN</td>\n",
       "      <td>NaN</td>\n",
       "      <td>NaN</td>\n",
       "      <td>NaN</td>\n",
       "      <td>NaN</td>\n",
       "      <td>NaN</td>\n",
       "      <td>NaN</td>\n",
       "      <td>NaN</td>\n",
       "    </tr>\n",
       "    <tr>\n",
       "      <th>4</th>\n",
       "      <td>D1 Journey Date</td>\n",
       "      <td>D1 Hcode</td>\n",
       "      <td>D1 Train</td>\n",
       "      <td>Public Start Time</td>\n",
       "      <td>D1 Origin</td>\n",
       "      <td>D1 Dest</td>\n",
       "      <td>Public End Time</td>\n",
       "      <td>D1 Jny Tsdb Profit Centr</td>\n",
       "      <td>D1 Location</td>\n",
       "      <td>D1 Planned Activity</td>\n",
       "      <td>...</td>\n",
       "      <td>D1 Working Time</td>\n",
       "      <td>Increased Lateness</td>\n",
       "      <td>D1 Public Var</td>\n",
       "      <td>D1 Working Var</td>\n",
       "      <td>Actual Duration</td>\n",
       "      <td>D1 Actual Time</td>\n",
       "      <td>Actual Time Source</td>\n",
       "      <td>Actual Time Secondary Source</td>\n",
       "      <td>Actual Duration (Trust)</td>\n",
       "      <td>Actual Time (Trust)</td>\n",
       "    </tr>\n",
       "    <tr>\n",
       "      <th>5</th>\n",
       "      <td>2022-05-30 00:00:00</td>\n",
       "      <td>882Y8610</td>\n",
       "      <td>2Y86</td>\n",
       "      <td>00:10:00</td>\n",
       "      <td>CHARING X</td>\n",
       "      <td>ASHFORDI</td>\n",
       "      <td>01:25:00</td>\n",
       "      <td>24605004</td>\n",
       "      <td>CHARING X</td>\n",
       "      <td>O</td>\n",
       "      <td>...</td>\n",
       "      <td>00:10:00</td>\n",
       "      <td>NaN</td>\n",
       "      <td>-18.0</td>\n",
       "      <td>-18.0</td>\n",
       "      <td>NaN</td>\n",
       "      <td>00:09:42</td>\n",
       "      <td>TD</td>\n",
       "      <td>X2</td>\n",
       "      <td>NaN</td>\n",
       "      <td>00:09:00</td>\n",
       "    </tr>\n",
       "    <tr>\n",
       "      <th>6</th>\n",
       "      <td>2022-05-30 00:00:00</td>\n",
       "      <td>882Y8610</td>\n",
       "      <td>2Y86</td>\n",
       "      <td>00:10:00</td>\n",
       "      <td>CHARING X</td>\n",
       "      <td>ASHFORDI</td>\n",
       "      <td>01:25:00</td>\n",
       "      <td>24605004</td>\n",
       "      <td>WATERLOOE</td>\n",
       "      <td>A</td>\n",
       "      <td>...</td>\n",
       "      <td>00:12:30</td>\n",
       "      <td>15.0</td>\n",
       "      <td>-15.0</td>\n",
       "      <td>15.0</td>\n",
       "      <td>183.0</td>\n",
       "      <td>00:12:45</td>\n",
       "      <td>TD</td>\n",
       "      <td>X2</td>\n",
       "      <td>180.0</td>\n",
       "      <td>00:12:00</td>\n",
       "    </tr>\n",
       "  </tbody>\n",
       "</table>\n",
       "<p>7 rows × 28 columns</p>\n",
       "</div>"
      ],
      "text/plain": [
       "                  DAYONE Daily 2 Unnamed: 1 Unnamed: 2         Unnamed: 3  \\\n",
       "0          Tue 31 May 2022 10:00        NaN        NaN                NaN   \n",
       "1                            NaN        NaN        NaN                NaN   \n",
       "2             trains by location        NaN        NaN                NaN   \n",
       "3  Full Parameters: See Appendix        NaN        NaN                NaN   \n",
       "4                D1 Journey Date   D1 Hcode   D1 Train  Public Start Time   \n",
       "5            2022-05-30 00:00:00   882Y8610       2Y86           00:10:00   \n",
       "6            2022-05-30 00:00:00   882Y8610       2Y86           00:10:00   \n",
       "\n",
       "  Unnamed: 4 Unnamed: 5       Unnamed: 6                Unnamed: 7  \\\n",
       "0        NaN        NaN              NaN                       NaN   \n",
       "1        NaN        NaN              NaN                       NaN   \n",
       "2        NaN        NaN              NaN                       NaN   \n",
       "3        NaN        NaN              NaN                       NaN   \n",
       "4  D1 Origin    D1 Dest  Public End Time  D1 Jny Tsdb Profit Centr   \n",
       "5  CHARING X   ASHFORDI         01:25:00                  24605004   \n",
       "6  CHARING X   ASHFORDI         01:25:00                  24605004   \n",
       "\n",
       "    Unnamed: 8           Unnamed: 9  ...      Unnamed: 18         Unnamed: 19  \\\n",
       "0          NaN                  NaN  ...              NaN                 NaN   \n",
       "1          NaN                  NaN  ...              NaN                 NaN   \n",
       "2          NaN                  NaN  ...              NaN                 NaN   \n",
       "3          NaN                  NaN  ...              NaN                 NaN   \n",
       "4  D1 Location  D1 Planned Activity  ...  D1 Working Time  Increased Lateness   \n",
       "5    CHARING X                    O  ...         00:10:00                 NaN   \n",
       "6    WATERLOOE                    A  ...         00:12:30                15.0   \n",
       "\n",
       "     Unnamed: 20     Unnamed: 21      Unnamed: 22     Unnamed: 23  \\\n",
       "0            NaN             NaN              NaN             NaN   \n",
       "1            NaN             NaN              NaN             NaN   \n",
       "2            NaN             NaN              NaN             NaN   \n",
       "3            NaN             NaN              NaN             NaN   \n",
       "4  D1 Public Var  D1 Working Var  Actual Duration  D1 Actual Time   \n",
       "5          -18.0           -18.0              NaN        00:09:42   \n",
       "6          -15.0            15.0            183.0        00:12:45   \n",
       "\n",
       "          Unnamed: 24                   Unnamed: 25              Unnamed: 26  \\\n",
       "0                 NaN                           NaN                      NaN   \n",
       "1                 NaN                           NaN                      NaN   \n",
       "2                 NaN                           NaN                      NaN   \n",
       "3                 NaN                           NaN                      NaN   \n",
       "4  Actual Time Source  Actual Time Secondary Source  Actual Duration (Trust)   \n",
       "5                  TD                            X2                      NaN   \n",
       "6                  TD                            X2                    180.0   \n",
       "\n",
       "           Unnamed: 27  \n",
       "0                  NaN  \n",
       "1                  NaN  \n",
       "2                  NaN  \n",
       "3                  NaN  \n",
       "4  Actual Time (Trust)  \n",
       "5             00:09:00  \n",
       "6             00:12:00  \n",
       "\n",
       "[7 rows x 28 columns]"
      ]
     },
     "execution_count": 154,
     "metadata": {},
     "output_type": "execute_result"
    }
   ],
   "source": [
    "dayonedaily2_df.head(7)"
   ]
  },
  {
   "cell_type": "code",
   "execution_count": 155,
   "id": "4f1602d4",
   "metadata": {},
   "outputs": [],
   "source": [
    "dayoneMessages_df=initial_cleaning(dayoneMessages_df)\n",
    "dayonedaily2_df=initial_cleaning(dayonedaily2_df)"
   ]
  },
  {
   "cell_type": "code",
   "execution_count": 156,
   "id": "9c036d2e",
   "metadata": {},
   "outputs": [
    {
     "data": {
      "text/html": [
       "<div>\n",
       "<style scoped>\n",
       "    .dataframe tbody tr th:only-of-type {\n",
       "        vertical-align: middle;\n",
       "    }\n",
       "\n",
       "    .dataframe tbody tr th {\n",
       "        vertical-align: top;\n",
       "    }\n",
       "\n",
       "    .dataframe thead th {\n",
       "        text-align: right;\n",
       "    }\n",
       "</style>\n",
       "<table border=\"1\" class=\"dataframe\">\n",
       "  <thead>\n",
       "    <tr style=\"text-align: right;\">\n",
       "      <th></th>\n",
       "      <th>D1_Journey_Date</th>\n",
       "      <th>D1_Location</th>\n",
       "      <th>D1_Hcode</th>\n",
       "      <th>D1_Planned_Activity</th>\n",
       "      <th>D1_Working_Time</th>\n",
       "      <th>D1_Working_Var</th>\n",
       "      <th>Increased_Lateness</th>\n",
       "      <th>Jny_Log_Message_Date</th>\n",
       "      <th>Jny_Log_Message_Title</th>\n",
       "      <th>Jny_Log_Message_Data_Label</th>\n",
       "      <th>Jny_Log_Message_Data_Value</th>\n",
       "    </tr>\n",
       "  </thead>\n",
       "  <tbody>\n",
       "    <tr>\n",
       "      <th>0</th>\n",
       "      <td>2022-05-30 00:00:00</td>\n",
       "      <td>ASHFORDI</td>\n",
       "      <td>895R6810</td>\n",
       "      <td>O</td>\n",
       "      <td>00:14:00</td>\n",
       "      <td>269.0</td>\n",
       "      <td>269.0</td>\n",
       "      <td>30/05/2022 00:18:55</td>\n",
       "      <td>5R68 : ASHFORDI : Origin : Late departure</td>\n",
       "      <td>Lateness (sec)</td>\n",
       "      <td>269</td>\n",
       "    </tr>\n",
       "    <tr>\n",
       "      <th>1</th>\n",
       "      <td>2022-05-30 00:00:00</td>\n",
       "      <td>ASHFORDI</td>\n",
       "      <td>895R6810</td>\n",
       "      <td>O</td>\n",
       "      <td>00:14:00</td>\n",
       "      <td>269.0</td>\n",
       "      <td>269.0</td>\n",
       "      <td>30/05/2022 01:03:41</td>\n",
       "      <td>5R68 : ASHFORDI : Station Delay Reason (Origin)</td>\n",
       "      <td>Actual Departure Time</td>\n",
       "      <td>30/05/2022 00:18:29</td>\n",
       "    </tr>\n",
       "    <tr>\n",
       "      <th>2</th>\n",
       "      <td>2022-05-30 00:00:00</td>\n",
       "      <td>ASHFORDI</td>\n",
       "      <td>895R6810</td>\n",
       "      <td>O</td>\n",
       "      <td>00:14:00</td>\n",
       "      <td>269.0</td>\n",
       "      <td>269.0</td>\n",
       "      <td>30/05/2022 01:03:41</td>\n",
       "      <td>5R68 : ASHFORDI : Station Delay Reason (Origin)</td>\n",
       "      <td>Comments</td>\n",
       "      <td>wtg signal with indicator</td>\n",
       "    </tr>\n",
       "    <tr>\n",
       "      <th>3</th>\n",
       "      <td>2022-05-30 00:00:00</td>\n",
       "      <td>ASHFORDI</td>\n",
       "      <td>895R6810</td>\n",
       "      <td>O</td>\n",
       "      <td>00:14:00</td>\n",
       "      <td>269.0</td>\n",
       "      <td>269.0</td>\n",
       "      <td>30/05/2022 01:03:41</td>\n",
       "      <td>5R68 : ASHFORDI : Station Delay Reason (Origin)</td>\n",
       "      <td>Delay Cause</td>\n",
       "      <td>Signal - Stopped or Waiting Proceed aspect - R...</td>\n",
       "    </tr>\n",
       "    <tr>\n",
       "      <th>4</th>\n",
       "      <td>2022-05-30 00:00:00</td>\n",
       "      <td>ASHFORDI</td>\n",
       "      <td>891J09M5</td>\n",
       "      <td>D</td>\n",
       "      <td>06:35:00</td>\n",
       "      <td>732.0</td>\n",
       "      <td>609.0</td>\n",
       "      <td>30/05/2022 07:31:23</td>\n",
       "      <td>1J09 : ASHFORDI : Station Delay Reason (Depart...</td>\n",
       "      <td>Actual Arrival Time</td>\n",
       "      <td>30/05/2022 06:35:33</td>\n",
       "    </tr>\n",
       "  </tbody>\n",
       "</table>\n",
       "</div>"
      ],
      "text/plain": [
       "       D1_Journey_Date D1_Location  D1_Hcode D1_Planned_Activity  \\\n",
       "0  2022-05-30 00:00:00    ASHFORDI  895R6810                   O   \n",
       "1  2022-05-30 00:00:00    ASHFORDI  895R6810                   O   \n",
       "2  2022-05-30 00:00:00    ASHFORDI  895R6810                   O   \n",
       "3  2022-05-30 00:00:00    ASHFORDI  895R6810                   O   \n",
       "4  2022-05-30 00:00:00    ASHFORDI  891J09M5                   D   \n",
       "\n",
       "  D1_Working_Time D1_Working_Var Increased_Lateness Jny_Log_Message_Date  \\\n",
       "0        00:14:00          269.0              269.0  30/05/2022 00:18:55   \n",
       "1        00:14:00          269.0              269.0  30/05/2022 01:03:41   \n",
       "2        00:14:00          269.0              269.0  30/05/2022 01:03:41   \n",
       "3        00:14:00          269.0              269.0  30/05/2022 01:03:41   \n",
       "4        06:35:00          732.0              609.0  30/05/2022 07:31:23   \n",
       "\n",
       "                               Jny_Log_Message_Title  \\\n",
       "0          5R68 : ASHFORDI : Origin : Late departure   \n",
       "1    5R68 : ASHFORDI : Station Delay Reason (Origin)   \n",
       "2    5R68 : ASHFORDI : Station Delay Reason (Origin)   \n",
       "3    5R68 : ASHFORDI : Station Delay Reason (Origin)   \n",
       "4  1J09 : ASHFORDI : Station Delay Reason (Depart...   \n",
       "\n",
       "  Jny_Log_Message_Data_Label  \\\n",
       "0             Lateness (sec)   \n",
       "1      Actual Departure Time   \n",
       "2                   Comments   \n",
       "3                Delay Cause   \n",
       "4        Actual Arrival Time   \n",
       "\n",
       "                          Jny_Log_Message_Data_Value  \n",
       "0                                                269  \n",
       "1                                30/05/2022 00:18:29  \n",
       "2                         wtg signal with indicator   \n",
       "3  Signal - Stopped or Waiting Proceed aspect - R...  \n",
       "4                                30/05/2022 06:35:33  "
      ]
     },
     "execution_count": 156,
     "metadata": {},
     "output_type": "execute_result"
    }
   ],
   "source": [
    "dayoneMessages_df.head(5)"
   ]
  },
  {
   "cell_type": "code",
   "execution_count": 157,
   "id": "bb945ec8",
   "metadata": {},
   "outputs": [
    {
     "data": {
      "text/html": [
       "<div>\n",
       "<style scoped>\n",
       "    .dataframe tbody tr th:only-of-type {\n",
       "        vertical-align: middle;\n",
       "    }\n",
       "\n",
       "    .dataframe tbody tr th {\n",
       "        vertical-align: top;\n",
       "    }\n",
       "\n",
       "    .dataframe thead th {\n",
       "        text-align: right;\n",
       "    }\n",
       "</style>\n",
       "<table border=\"1\" class=\"dataframe\">\n",
       "  <thead>\n",
       "    <tr style=\"text-align: right;\">\n",
       "      <th></th>\n",
       "      <th>D1_Journey_Date</th>\n",
       "      <th>D1_Hcode</th>\n",
       "      <th>D1_Train</th>\n",
       "      <th>Public_Start_Time</th>\n",
       "      <th>D1_Origin</th>\n",
       "      <th>D1_Dest</th>\n",
       "      <th>Public_End_Time</th>\n",
       "      <th>D1_Jny_Tsdb_Profit_Centr</th>\n",
       "      <th>D1_Location</th>\n",
       "      <th>D1_Planned_Activity</th>\n",
       "      <th>...</th>\n",
       "      <th>D1_Working_Time</th>\n",
       "      <th>Increased_Lateness</th>\n",
       "      <th>D1_Public_Var</th>\n",
       "      <th>D1_Working_Var</th>\n",
       "      <th>Actual_Duration</th>\n",
       "      <th>D1_Actual_Time</th>\n",
       "      <th>Actual_Time_Source</th>\n",
       "      <th>Actual_Time_Secondary_Source</th>\n",
       "      <th>Actual_Duration_(Trust)</th>\n",
       "      <th>Actual_Time_(Trust)</th>\n",
       "    </tr>\n",
       "  </thead>\n",
       "  <tbody>\n",
       "    <tr>\n",
       "      <th>0</th>\n",
       "      <td>2022-05-30 00:00:00</td>\n",
       "      <td>882Y8610</td>\n",
       "      <td>2Y86</td>\n",
       "      <td>00:10:00</td>\n",
       "      <td>CHARING X</td>\n",
       "      <td>ASHFORDI</td>\n",
       "      <td>01:25:00</td>\n",
       "      <td>24605004</td>\n",
       "      <td>CHARING X</td>\n",
       "      <td>O</td>\n",
       "      <td>...</td>\n",
       "      <td>00:10:00</td>\n",
       "      <td>NaN</td>\n",
       "      <td>-18.0</td>\n",
       "      <td>-18.0</td>\n",
       "      <td>NaN</td>\n",
       "      <td>00:09:42</td>\n",
       "      <td>TD</td>\n",
       "      <td>X2</td>\n",
       "      <td>NaN</td>\n",
       "      <td>00:09:00</td>\n",
       "    </tr>\n",
       "    <tr>\n",
       "      <th>1</th>\n",
       "      <td>2022-05-30 00:00:00</td>\n",
       "      <td>882Y8610</td>\n",
       "      <td>2Y86</td>\n",
       "      <td>00:10:00</td>\n",
       "      <td>CHARING X</td>\n",
       "      <td>ASHFORDI</td>\n",
       "      <td>01:25:00</td>\n",
       "      <td>24605004</td>\n",
       "      <td>WATERLOOE</td>\n",
       "      <td>A</td>\n",
       "      <td>...</td>\n",
       "      <td>00:12:30</td>\n",
       "      <td>15.0</td>\n",
       "      <td>-15.0</td>\n",
       "      <td>15.0</td>\n",
       "      <td>183.0</td>\n",
       "      <td>00:12:45</td>\n",
       "      <td>TD</td>\n",
       "      <td>X2</td>\n",
       "      <td>180.0</td>\n",
       "      <td>00:12:00</td>\n",
       "    </tr>\n",
       "    <tr>\n",
       "      <th>2</th>\n",
       "      <td>2022-05-30 00:00:00</td>\n",
       "      <td>882Y8610</td>\n",
       "      <td>2Y86</td>\n",
       "      <td>00:10:00</td>\n",
       "      <td>CHARING X</td>\n",
       "      <td>ASHFORDI</td>\n",
       "      <td>01:25:00</td>\n",
       "      <td>24605004</td>\n",
       "      <td>WATERLOOE</td>\n",
       "      <td>D</td>\n",
       "      <td>...</td>\n",
       "      <td>00:13:30</td>\n",
       "      <td>NaN</td>\n",
       "      <td>36.0</td>\n",
       "      <td>6.0</td>\n",
       "      <td>51.0</td>\n",
       "      <td>00:13:36</td>\n",
       "      <td>TD</td>\n",
       "      <td>X2</td>\n",
       "      <td>60.0</td>\n",
       "      <td>00:13:00</td>\n",
       "    </tr>\n",
       "    <tr>\n",
       "      <th>3</th>\n",
       "      <td>2022-05-30 00:00:00</td>\n",
       "      <td>882Y8610</td>\n",
       "      <td>2Y86</td>\n",
       "      <td>00:10:00</td>\n",
       "      <td>CHARING X</td>\n",
       "      <td>ASHFORDI</td>\n",
       "      <td>01:25:00</td>\n",
       "      <td>24605004</td>\n",
       "      <td>EWER ST J</td>\n",
       "      <td>P</td>\n",
       "      <td>...</td>\n",
       "      <td>00:15:00</td>\n",
       "      <td>NaN</td>\n",
       "      <td>NaN</td>\n",
       "      <td>0.0</td>\n",
       "      <td>84.0</td>\n",
       "      <td>00:15:00</td>\n",
       "      <td>TD</td>\n",
       "      <td>X2</td>\n",
       "      <td>NaN</td>\n",
       "      <td>NaN</td>\n",
       "    </tr>\n",
       "    <tr>\n",
       "      <th>4</th>\n",
       "      <td>2022-05-30 00:00:00</td>\n",
       "      <td>882Y8610</td>\n",
       "      <td>2Y86</td>\n",
       "      <td>00:10:00</td>\n",
       "      <td>CHARING X</td>\n",
       "      <td>ASHFORDI</td>\n",
       "      <td>01:25:00</td>\n",
       "      <td>24605004</td>\n",
       "      <td>LONDONBDG</td>\n",
       "      <td>A</td>\n",
       "      <td>...</td>\n",
       "      <td>00:17:00</td>\n",
       "      <td>9.0</td>\n",
       "      <td>22.0</td>\n",
       "      <td>22.0</td>\n",
       "      <td>114.0</td>\n",
       "      <td>00:17:22</td>\n",
       "      <td>TD</td>\n",
       "      <td>X2</td>\n",
       "      <td>NaN</td>\n",
       "      <td>00:17:00</td>\n",
       "    </tr>\n",
       "  </tbody>\n",
       "</table>\n",
       "<p>5 rows × 28 columns</p>\n",
       "</div>"
      ],
      "text/plain": [
       "       D1_Journey_Date  D1_Hcode D1_Train Public_Start_Time  D1_Origin  \\\n",
       "0  2022-05-30 00:00:00  882Y8610     2Y86          00:10:00  CHARING X   \n",
       "1  2022-05-30 00:00:00  882Y8610     2Y86          00:10:00  CHARING X   \n",
       "2  2022-05-30 00:00:00  882Y8610     2Y86          00:10:00  CHARING X   \n",
       "3  2022-05-30 00:00:00  882Y8610     2Y86          00:10:00  CHARING X   \n",
       "4  2022-05-30 00:00:00  882Y8610     2Y86          00:10:00  CHARING X   \n",
       "\n",
       "    D1_Dest Public_End_Time D1_Jny_Tsdb_Profit_Centr D1_Location  \\\n",
       "0  ASHFORDI        01:25:00                 24605004   CHARING X   \n",
       "1  ASHFORDI        01:25:00                 24605004   WATERLOOE   \n",
       "2  ASHFORDI        01:25:00                 24605004   WATERLOOE   \n",
       "3  ASHFORDI        01:25:00                 24605004   EWER ST J   \n",
       "4  ASHFORDI        01:25:00                 24605004   LONDONBDG   \n",
       "\n",
       "  D1_Planned_Activity  ... D1_Working_Time Increased_Lateness D1_Public_Var  \\\n",
       "0                   O  ...        00:10:00                NaN         -18.0   \n",
       "1                   A  ...        00:12:30               15.0         -15.0   \n",
       "2                   D  ...        00:13:30                NaN          36.0   \n",
       "3                   P  ...        00:15:00                NaN           NaN   \n",
       "4                   A  ...        00:17:00                9.0          22.0   \n",
       "\n",
       "  D1_Working_Var Actual_Duration D1_Actual_Time Actual_Time_Source  \\\n",
       "0          -18.0             NaN       00:09:42                 TD   \n",
       "1           15.0           183.0       00:12:45                 TD   \n",
       "2            6.0            51.0       00:13:36                 TD   \n",
       "3            0.0            84.0       00:15:00                 TD   \n",
       "4           22.0           114.0       00:17:22                 TD   \n",
       "\n",
       "  Actual_Time_Secondary_Source Actual_Duration_(Trust) Actual_Time_(Trust)  \n",
       "0                           X2                     NaN            00:09:00  \n",
       "1                           X2                   180.0            00:12:00  \n",
       "2                           X2                    60.0            00:13:00  \n",
       "3                           X2                     NaN                 NaN  \n",
       "4                           X2                     NaN            00:17:00  \n",
       "\n",
       "[5 rows x 28 columns]"
      ]
     },
     "execution_count": 157,
     "metadata": {},
     "output_type": "execute_result"
    }
   ],
   "source": [
    "dayonedaily2_df.head(5)"
   ]
  },
  {
   "cell_type": "markdown",
   "id": "8d338162",
   "metadata": {},
   "source": [
    "## Analysis 1"
   ]
  },
  {
   "cell_type": "code",
   "execution_count": 158,
   "id": "3b29ae5d",
   "metadata": {},
   "outputs": [],
   "source": [
    "        #drop duplicate value by keeping first row by giving execption to d1_hcode\n",
    "dayonemessage=dayoneMessages_df[['D1_Location','D1_Hcode','D1_Planned_Activity','D1_Working_Time','D1_Working_Var']].drop_duplicates(subset='D1_Hcode',keep='first')\n",
    "dayonemessage['D1_Working_Time']=pd.to_datetime(dayonemessage['D1_Working_Time'],format= '%H:%M:%S')\n",
    "\n",
    "\n",
    "        #groupby on dayonedaily dataset to find location with time variance\n",
    "dayonedaily_timevariance=dayonedaily2_df.groupby(['D1_Location','D1_Working_Var']).size().reset_index().rename(columns={0:'Increased_Lateness Count'}).sort_values('D1_Working_Var')\n",
    "       "
   ]
  },
  {
   "cell_type": "code",
   "execution_count": 159,
   "id": "06712181",
   "metadata": {},
   "outputs": [
    {
     "data": {
      "image/png": "[encoded data removed]",
      "text/plain": [
       "<Figure size 432x288 with 1 Axes>"
      ]
     },
     "metadata": {
      "needs_background": "light"
     },
     "output_type": "display_data"
    }
   ],
   "source": [
    "scatterplotgraph_(dayonemessage['D1_Working_Time'],dayonemessage['D1_Working_Var']/60,\"Working Time\",\"Time Variance (min)\",\"Time Variance showed By different Trains\",0)"
   ]
  },
  {
   "cell_type": "markdown",
   "id": "45f67dac",
   "metadata": {},
   "source": [
    "## observations\n",
    "* most of the timvariance occured between 6am to 12 am \n",
    "* average time variance is of 1 min to 10 min\n",
    "* highest time variance showed is around 1 hr"
   ]
  },
  {
   "cell_type": "code",
   "execution_count": 161,
   "id": "e8a64d7d",
   "metadata": {},
   "outputs": [
    {
     "data": {
      "text/html": [
       "<div>\n",
       "<style scoped>\n",
       "    .dataframe tbody tr th:only-of-type {\n",
       "        vertical-align: middle;\n",
       "    }\n",
       "\n",
       "    .dataframe tbody tr th {\n",
       "        vertical-align: top;\n",
       "    }\n",
       "\n",
       "    .dataframe thead th {\n",
       "        text-align: right;\n",
       "    }\n",
       "</style>\n",
       "<table border=\"1\" class=\"dataframe\">\n",
       "  <thead>\n",
       "    <tr style=\"text-align: right;\">\n",
       "      <th></th>\n",
       "      <th>D1_Working_Var</th>\n",
       "    </tr>\n",
       "    <tr>\n",
       "      <th>D1_Location</th>\n",
       "      <th></th>\n",
       "    </tr>\n",
       "  </thead>\n",
       "  <tbody>\n",
       "    <tr>\n",
       "      <th>ROBERTBDG</th>\n",
       "      <td>134.426357</td>\n",
       "    </tr>\n",
       "    <tr>\n",
       "      <th>STRAWHLTN</th>\n",
       "      <td>136.043478</td>\n",
       "    </tr>\n",
       "    <tr>\n",
       "      <th>WADHRSTLS</th>\n",
       "      <td>136.452055</td>\n",
       "    </tr>\n",
       "    <tr>\n",
       "      <th>FRANT</th>\n",
       "      <td>140.095238</td>\n",
       "    </tr>\n",
       "    <tr>\n",
       "      <th>BLUEANCHR</th>\n",
       "      <td>273.291874</td>\n",
       "    </tr>\n",
       "  </tbody>\n",
       "</table>\n",
       "</div>"
      ],
      "text/plain": [
       "             D1_Working_Var\n",
       "D1_Location                \n",
       "ROBERTBDG        134.426357\n",
       "STRAWHLTN        136.043478\n",
       "WADHRSTLS        136.452055\n",
       "FRANT            140.095238\n",
       "BLUEANCHR        273.291874"
      ]
     },
     "execution_count": 161,
     "metadata": {},
     "output_type": "execute_result"
    }
   ],
   "source": [
    "dayone_station_MeanTimevariance=dayonedaily2_df[['D1_Location','D1_Working_Var']].groupby(['D1_Location']).mean().sort_values('D1_Working_Var').tail(5)\n",
    "dayone_station_MeanTimevariance"
   ]
  },
  {
   "cell_type": "code",
   "execution_count": 166,
   "id": "9d0268a3",
   "metadata": {},
   "outputs": [
    {
     "data": {
      "image/png": "[encoded data removed]",
      "text/plain": [
       "<Figure size 576x576 with 1 Axes>"
      ]
     },
     "metadata": {
      "needs_background": "light"
     },
     "output_type": "display_data"
    }
   ],
   "source": [
    "bargraph_(dayone_station_MeanTimevariance,dayone_station_MeanTimevariance.index,'D1_Working_Var','Station','Time Variance','Time Variance in terms of Stations ')"
   ]
  },
  {
   "cell_type": "markdown",
   "id": "29aa01a7",
   "metadata": {},
   "source": [
    "## observations\n",
    "* most time variance is showed by blueanchr station with an average time variance value of 274 secs"
   ]
  },
  {
   "cell_type": "code",
   "execution_count": null,
   "id": "16f86fdc",
   "metadata": {},
   "outputs": [],
   "source": [
    "save_to_sqlite(dayone_station_MeanTimevariance,'dayone_station_MeanTimevariance') # Extracting  data  to sqlite database"
   ]
  },
  {
   "cell_type": "code",
   "execution_count": 82,
   "id": "829bb1c1",
   "metadata": {},
   "outputs": [
    {
     "data": {
      "image/png": "[encoded data removed]",
      "text/plain": [
       "<Figure size 432x288 with 1 Axes>"
      ]
     },
     "metadata": {
      "needs_background": "light"
     },
     "output_type": "display_data"
    }
   ],
   "source": [
    "scatterplotgraph_(dayonedaily2_df['D1_Working_Var']/3600,dayonedaily2_df['Actual_Duration']/3600,\"Duration(hr)\",\"Time Variance (hr)\",\"Correlation between time variance and duration\",1)"
   ]
  },
  {
   "cell_type": "markdown",
   "id": "b338efce",
   "metadata": {},
   "source": [
    "## Obsevation \n",
    "* time variance and duration shows a slight positive correlation which means with increase in duration time from previous location time variance also increase."
   ]
  },
  {
   "cell_type": "markdown",
   "id": "3b14dbdf",
   "metadata": {},
   "source": [
    "## Station And Train Count "
   ]
  },
  {
   "cell_type": "markdown",
   "id": "42f68792",
   "metadata": {},
   "source": [
    "**Group by according to location and activity to find train count**"
   ]
  },
  {
   "cell_type": "code",
   "execution_count": 84,
   "id": "f9f0dd5a",
   "metadata": {},
   "outputs": [],
   "source": [
    "TrainCount_Stations=dayonedaily2_df[['D1_Location','D1_Actual_Activity']].groupby(['D1_Location','D1_Actual_Activity']).size().reset_index().rename(columns={0:'Train Count'})"
   ]
  },
  {
   "cell_type": "markdown",
   "id": "819cd04a",
   "metadata": {},
   "source": [
    "**Group by function to find out the station**"
   ]
  },
  {
   "cell_type": "code",
   "execution_count": 85,
   "id": "f0421e43",
   "metadata": {},
   "outputs": [],
   "source": [
    "activity_list=['DEPART'] \n",
    "TrainCount_Stations=TrainCount_Stations[TrainCount_Stations['D1_Actual_Activity'].isin(activity_list)].sort_values('Train Count') "
   ]
  },
  {
   "cell_type": "markdown",
   "id": "76e7bc7d",
   "metadata": {},
   "source": [
    "**Concatenating top 5 station with max train count and bottom 5 station with least train count**"
   ]
  },
  {
   "cell_type": "code",
   "execution_count": 86,
   "id": "ecd82dd6",
   "metadata": {},
   "outputs": [
    {
     "data": {
      "text/html": [
       "<div>\n",
       "<style scoped>\n",
       "    .dataframe tbody tr th:only-of-type {\n",
       "        vertical-align: middle;\n",
       "    }\n",
       "\n",
       "    .dataframe tbody tr th {\n",
       "        vertical-align: top;\n",
       "    }\n",
       "\n",
       "    .dataframe thead th {\n",
       "        text-align: right;\n",
       "    }\n",
       "</style>\n",
       "<table border=\"1\" class=\"dataframe\">\n",
       "  <thead>\n",
       "    <tr style=\"text-align: right;\">\n",
       "      <th></th>\n",
       "      <th>D1_Location</th>\n",
       "      <th>D1_Actual_Activity</th>\n",
       "      <th>Train Count</th>\n",
       "    </tr>\n",
       "  </thead>\n",
       "  <tbody>\n",
       "    <tr>\n",
       "      <th>219</th>\n",
       "      <td>FOLKSTN E</td>\n",
       "      <td>DEPART</td>\n",
       "      <td>1</td>\n",
       "    </tr>\n",
       "    <tr>\n",
       "      <th>248</th>\n",
       "      <td>HASTINGS</td>\n",
       "      <td>DEPART</td>\n",
       "      <td>1</td>\n",
       "    </tr>\n",
       "    <tr>\n",
       "      <th>261</th>\n",
       "      <td>HIGHAM</td>\n",
       "      <td>DEPART</td>\n",
       "      <td>4</td>\n",
       "    </tr>\n",
       "    <tr>\n",
       "      <th>137</th>\n",
       "      <td>CROFTONPK</td>\n",
       "      <td>DEPART</td>\n",
       "      <td>4</td>\n",
       "    </tr>\n",
       "    <tr>\n",
       "      <th>37</th>\n",
       "      <td>BELLINGHM</td>\n",
       "      <td>DEPART</td>\n",
       "      <td>4</td>\n",
       "    </tr>\n",
       "    <tr>\n",
       "      <th>78</th>\n",
       "      <td>BROMLEY S</td>\n",
       "      <td>DEPART</td>\n",
       "      <td>262</td>\n",
       "    </tr>\n",
       "    <tr>\n",
       "      <th>267</th>\n",
       "      <td>HITHERGRN</td>\n",
       "      <td>DEPART</td>\n",
       "      <td>320</td>\n",
       "    </tr>\n",
       "    <tr>\n",
       "      <th>299</th>\n",
       "      <td>LEWISHAM</td>\n",
       "      <td>DEPART</td>\n",
       "      <td>483</td>\n",
       "    </tr>\n",
       "    <tr>\n",
       "      <th>547</th>\n",
       "      <td>WATERLOOE</td>\n",
       "      <td>DEPART</td>\n",
       "      <td>592</td>\n",
       "    </tr>\n",
       "    <tr>\n",
       "      <th>308</th>\n",
       "      <td>LONDONBDG</td>\n",
       "      <td>DEPART</td>\n",
       "      <td>992</td>\n",
       "    </tr>\n",
       "  </tbody>\n",
       "</table>\n",
       "</div>"
      ],
      "text/plain": [
       "    D1_Location D1_Actual_Activity  Train Count\n",
       "219   FOLKSTN E             DEPART            1\n",
       "248    HASTINGS             DEPART            1\n",
       "261      HIGHAM             DEPART            4\n",
       "137   CROFTONPK             DEPART            4\n",
       "37    BELLINGHM             DEPART            4\n",
       "78    BROMLEY S             DEPART          262\n",
       "267   HITHERGRN             DEPART          320\n",
       "299    LEWISHAM             DEPART          483\n",
       "547   WATERLOOE             DEPART          592\n",
       "308   LONDONBDG             DEPART          992"
      ]
     },
     "execution_count": 86,
     "metadata": {},
     "output_type": "execute_result"
    }
   ],
   "source": [
    "TrainCount_Stations_top5_bottom5 = pd.concat([TrainCount_Stations[:5],TrainCount_Stations[-5:]])\n",
    "TrainCount_Stations_top5_bottom5"
   ]
  },
  {
   "cell_type": "code",
   "execution_count": 87,
   "id": "c639065f",
   "metadata": {},
   "outputs": [
    {
     "data": {
      "image/png": "[encoded data removed]",
      "text/plain": [
       "<Figure size 576x576 with 1 Axes>"
      ]
     },
     "metadata": {
      "needs_background": "light"
     },
     "output_type": "display_data"
    }
   ],
   "source": [
    "bargraph_(TrainCount_Stations_top5_bottom5 ,TrainCount_Stations_top5_bottom5['D1_Location'] ,TrainCount_Stations_top5_bottom5['Train Count'],'Station',' Train Count','Number of Train Stops in resp Station')"
   ]
  },
  {
   "cell_type": "markdown",
   "id": "9656e518",
   "metadata": {},
   "source": [
    "## Observations\n",
    "* A large number of train stops in london bridge station then comes waterloo.\n",
    "* Folkstine and hastings is least popular station where only 1 train stops"
   ]
  },
  {
   "cell_type": "markdown",
   "id": "1ca66db2",
   "metadata": {},
   "source": [
    " ## Extracting  data  to sqlite database"
   ]
  },
  {
   "cell_type": "code",
   "execution_count": 64,
   "id": "6b243ca5",
   "metadata": {},
   "outputs": [
    {
     "name": "stdout",
     "output_type": "stream",
     "text": [
      "   index D1_Location D1_Actual_Activity  Train Count\n",
      "0    219   FOLKSTN E             DEPART            1\n",
      "1    248    HASTINGS             DEPART            1\n",
      "2    261      HIGHAM             DEPART            4\n",
      "3    137   CROFTONPK             DEPART            4\n",
      "4     37   BELLINGHM             DEPART            4\n"
     ]
    }
   ],
   "source": [
    "save_to_sqlite(TrainCount_Stations_top5_bottom5,'TrainCount_Stations_top5_bottom5')"
   ]
  },
  {
   "cell_type": "markdown",
   "id": "71f5d758",
   "metadata": {},
   "source": [
    "# BENCHMARKING OF DATABASES"
   ]
  },
  {
   "cell_type": "code",
   "execution_count": 88,
   "id": "3ba2bd7a",
   "metadata": {},
   "outputs": [],
   "source": [
    "dayonedaily2_df=pd.read_excel('DAYONEDaily2.xlsx')\n",
    "dayonedaily2_df=initial_cleaning(dayonedaily2_df)"
   ]
  },
  {
   "cell_type": "markdown",
   "id": "a6e61105",
   "metadata": {},
   "source": [
    "### Droping unwanted coloumn"
   ]
  },
  {
   "cell_type": "code",
   "execution_count": 89,
   "id": "34de3c01",
   "metadata": {},
   "outputs": [],
   "source": [
    "dayonedaily2_df=dayonedaily2_df.drop([\"D1_Journey_Date\",\"D1_Jny_Tsdb_Profit_Centr\",\"Planned_Platform\",\"Actual_Platform\",\"Line\",\"Dir\",\"Delay_Monitoring_Point\",\"Count_Trains_Booked\",\"Actual_Time_Source\",\"Actual_Time_Secondary_Source\",\"Actual_Duration_(Trust)\",\"Actual_Time_(Trust)\"],axis=1)"
   ]
  },
  {
   "cell_type": "code",
   "execution_count": 90,
   "id": "66a932bb",
   "metadata": {},
   "outputs": [],
   "source": [
    "dayonedaily2_df.dropna(subset=['D1_Actual_Time','D1_Working_Time','D1_Hcode','D1_Location'],inplace=True)"
   ]
  },
  {
   "cell_type": "code",
   "execution_count": 91,
   "id": "f16326a9",
   "metadata": {},
   "outputs": [],
   "source": [
    "dayonedaily2_df[\"D1_Actual_Time\"]=pd.to_datetime(dayonedaily2_df[\"D1_Actual_Time\"],format='%H:%M:%S').dt.time\n",
    "dayonedaily2_df[\"D1_Working_Time\"]=pd.to_datetime(dayonedaily2_df[\"D1_Working_Time\"],format='%H:%M:%S').dt.time\n",
    "dayonedaily2_df.insert(0,'ID',range(1,1+len(dayonedaily2_df)))"
   ]
  },
  {
   "cell_type": "markdown",
   "id": "d6f8418e",
   "metadata": {},
   "source": [
    "## SAVING DATAFRAMES TO DB"
   ]
  },
  {
   "cell_type": "code",
   "execution_count": 93,
   "id": "47d0da8d",
   "metadata": {},
   "outputs": [],
   "source": [
    "save_to_Mysql(dayonedaily2_df,\"dayonedaily2_df_updated2\")# MYSQL\n",
    "save_to_Mariadb(dayonedaily2_df,\"dayonedaily2_df_updated2\") # MARIADB\n",
    "save_to_sqlite(dayonedaily2_df,\"dayonedaily2_df_updated2\") # SQLITE"
   ]
  },
  {
   "cell_type": "code",
   "execution_count": 98,
   "id": "d1f5698f",
   "metadata": {},
   "outputs": [],
   "source": [
    "cursor,con_mysql=MSQL_con() # MSQL connection\n"
   ]
  },
  {
   "cell_type": "code",
   "execution_count": 99,
   "id": "cf031128",
   "metadata": {},
   "outputs": [
    {
     "data": {
      "text/plain": [
       "10"
      ]
     },
     "execution_count": 99,
     "metadata": {},
     "output_type": "execute_result"
    }
   ],
   "source": [
    " # calling storeprocedure \n",
    "cursor.execute('CALL BestAndWorst_updated2')"
   ]
  },
  {
   "cell_type": "markdown",
   "id": "27c18565",
   "metadata": {},
   "source": [
    "## DATA VISUALISATION OF FINDINGS"
   ]
  },
  {
   "cell_type": "markdown",
   "id": "2605ed99",
   "metadata": {},
   "source": [
    "**Find the top best 10 stations - those having 0 seconds delay or arriving early**"
   ]
  },
  {
   "cell_type": "code",
   "execution_count": 100,
   "id": "8104c28e",
   "metadata": {},
   "outputs": [],
   "source": [
    "def Retriving_Resultant_set():\n",
    "    column_names = [col[0] for col in cursor.description] # Get column names from MySQL\n",
    "\n",
    "    df = []\n",
    "    for row in cursor.fetchall():\n",
    "        df.append({name: row[i] for i, name in enumerate(column_names)})\n",
    "    df1 = pd.DataFrame(df)\n",
    "    return df1"
   ]
  },
  {
   "cell_type": "code",
   "execution_count": 101,
   "id": "1af65f40",
   "metadata": {},
   "outputs": [
    {
     "data": {
      "text/plain": [
       "True"
      ]
     },
     "execution_count": 101,
     "metadata": {},
     "output_type": "execute_result"
    }
   ],
   "source": [
    "# Resultant set 1\n",
    "df_BS=Retriving_Resultant_set() # Best Stations\n",
    "cursor.nextset()\n",
    "# Resultant set 2\n",
    "df_BL=Retriving_Resultant_set() # Best Legs\n",
    "cursor.nextset()\n",
    "# Resultant set 3\n",
    "df_BHC=Retriving_Resultant_set() # Best HCode\n",
    "cursor.nextset()\n",
    "# Resultant set 4\n",
    "df_WS=Retriving_Resultant_set()# Worst Stations\n",
    "cursor.nextset()\n",
    "# Resultant set 5\n",
    "df_WL=Retriving_Resultant_set() # Worst Legs\n",
    "cursor.nextset()\n",
    "# Resultant set 6\n",
    "df_WHC=Retriving_Resultant_set() # Worst Hcode\n",
    "cursor.nextset()"
   ]
  },
  {
   "cell_type": "code",
   "execution_count": 102,
   "id": "446d2591",
   "metadata": {},
   "outputs": [
    {
     "data": {
      "image/png": "[encoded data removed]",
      "text/plain": [
       "<Figure size 1080x1080 with 6 Axes>"
      ]
     },
     "metadata": {
      "needs_background": "light"
     },
     "output_type": "display_data"
    }
   ],
   "source": [
    "f , axes = plt.subplots(3,2, figsize = (15,15))\n",
    "ax1=sns.lineplot(x='D1_Location',y='D1_Working_Var',data=df_BS,ax=axes[0,0],color='green')\n",
    "ax1.tick_params(axis=\"x\", rotation=90)\n",
    "ax1.set(xlabel=\"Station\",ylabel=\"Variance\",title=\"TOP 10 STATIONS\")\n",
    "\n",
    "\n",
    "ax2=sns.lineplot(x='D1_Location',y='D1_Working_Var',data=df_WS,ax=axes[0,1],color='green')\n",
    "ax2.tick_params(axis=\"x\", rotation=90)\n",
    "ax2.set(xlabel=\"Station\",ylabel=\"Variance\",title=\"Worst 10 STATIONS\")\n",
    "\n",
    "ax3=sns.lineplot(x='leg',y='D1_Working_Var',data=df_BL,ax=axes[1,0],color='purple')\n",
    "ax3.tick_params(axis=\"x\", rotation=90)\n",
    "ax3.set(xlabel=\"Leg\",ylabel=\"Variance\",title=\"Top 10 Leg\")\n",
    "\n",
    "ax4=sns.lineplot(x='leg',y='m',data=df_WL,ax=axes[1,1],color='purple')\n",
    "ax4.tick_params(axis=\"x\", rotation=90)\n",
    "ax4.set(xlabel=\"Leg\",ylabel=\"Variance\",title=\"Worst 10 Leg\")\n",
    "\n",
    "\n",
    "ax5=sns.lineplot(x='D1_Hcode',y='total_variance_Hcode',data=df_BHC,ax=axes[2,0],color='crimson')\n",
    "ax5.tick_params(axis=\"x\", rotation=90)\n",
    "ax5.set(xlabel=\"HCode\",ylabel=\"Variance\",title=\"Top 10 Hcode\")\n",
    "\n",
    "ax6=sns.lineplot(x='D1_Hcode',y='total_variance_Hcode',data=df_WHC,ax=axes[2,1],color='crimson')\n",
    "ax6.tick_params(axis=\"x\", rotation=90)\n",
    "ax6.set(xlabel=\"HCode\",ylabel=\"Variance\",title=\"Worst 10 Hcode\")\n",
    "f.subplots_adjust(hspace=1.129, wspace=0.125)"
   ]
  },
  {
   "cell_type": "markdown",
   "id": "142afbfd",
   "metadata": {},
   "source": [
    "### BENCHMARKING DATABASE"
   ]
  },
  {
   "cell_type": "code",
   "execution_count": 134,
   "id": "700c6136",
   "metadata": {},
   "outputs": [],
   "source": []
  },
  {
   "cell_type": "markdown",
   "id": "be94b703",
   "metadata": {},
   "source": [
    "### MYSQL"
   ]
  },
  {
   "cell_type": "code",
   "execution_count": 135,
   "id": "8b5f2215",
   "metadata": {},
   "outputs": [],
   "source": [
    "SETUP_CODE = '''\n",
    "from MyFunction_FinalProject import MSQL_con,Mariadb_con\n",
    "cursor,con_mysql=MSQL_con() # MSQL connection'''\n",
    "\n",
    "TEST_CODE1 = '''\n",
    "\n",
    "cursor.execute(\"select  D1_Location,D1_Actual_Activity,D1_Working_Var from dayonedaily2_df_updated2 where D1_Working_Var<=0 and D1_Actual_Activity in('ARRIVE' and 'TERMINUS') order by D1_Working_Var asc limit 10\")'''\n",
    "\n",
    "TEST_CODE2 = '''\n",
    "\n",
    "cursor.execute(\"select ID,D1_Hcode,D1_Location,D1_Actual_Activity,D1_Working_Var,concat(prevstation,' to ',D1_Location) as leg from leg where D1_Working_Var<=0 and D1_Actual_Activity not in ('DEPART') order by D1_Working_Var asc limit 10 \")'''\n",
    "\n",
    "TEST_CODE3 = '''\n",
    "\n",
    "cursor.execute(\"select  sum(D1_Working_Var) as total_variance_Hcode ,D1_Hcode  from dayonedaily2_df_updated2  group by D1_Hcode order by total_variance_Hcode asc limit 10\")'''\n",
    "\n",
    "TEST_CODE4 = '''\n",
    "\n",
    "cursor.execute(\"select  D1_Hcode,D1_Location,D1_Actual_Activity,D1_Working_Var from dayonedaily2_df_updated2 where D1_Actual_Activity ='ARRIVE'or D1_Actual_Activity='TERMINUS' order by D1_Working_Var desc limit 10\")'''\n",
    "\n",
    "TEST_CODE5 = '''\n",
    "\n",
    "cursor.execute(\"select floor(avg(D1_Working_Var))  as m,concat(prevstation,' to ',D1_Location) as leg from leg where  D1_Actual_Activity not in ('DEPART','ORIGIN') group by leg order by m desc limit 10\")'''\n",
    "\n",
    "\n",
    "\n",
    "TEST_CODE6 = '''\n",
    "\n",
    "cursor.execute(\"select  sum(D1_Working_Var) as total_variance_Hcode ,D1_Hcode  from dayonedaily2_df_updated2  group by D1_Hcode order by total_variance_Hcode desc limit 10\")'''\n",
    "\n"
   ]
  },
  {
   "cell_type": "code",
   "execution_count": 136,
   "id": "a4614673",
   "metadata": {},
   "outputs": [],
   "source": [
    "Mysql_Timings=TimeOfExecutionRecording(SETUP_CODE,TEST_CODE1,TEST_CODE2,TEST_CODE3,TEST_CODE4,TEST_CODE5,TEST_CODE6)"
   ]
  },
  {
   "cell_type": "code",
   "execution_count": 137,
   "id": "c6559eac",
   "metadata": {},
   "outputs": [],
   "source": [
    "Mysql_Timings['Db']='Mysql'"
   ]
  },
  {
   "cell_type": "markdown",
   "id": "d7e8add7",
   "metadata": {},
   "source": [
    "## MARIADB"
   ]
  },
  {
   "cell_type": "code",
   "execution_count": 138,
   "id": "fd6a376e",
   "metadata": {},
   "outputs": [],
   "source": [
    "SETUP_CODE = '''\n",
    "from MyFunction_FinalProject import Mariadb_con\n",
    "cursor1=Mariadb_con() '''"
   ]
  },
  {
   "cell_type": "code",
   "execution_count": 139,
   "id": "f1082cef",
   "metadata": {},
   "outputs": [],
   "source": [
    "TEST_CODE1 = '''\n",
    "\n",
    "cursor1.execute(\"select  D1_Location,D1_Actual_Activity,D1_Working_Var from dayonedaily2_df_updated2 where D1_Working_Var<=0 and D1_Actual_Activity in('ARRIVE' and 'TERMINUS') order by D1_Working_Var asc limit 10\")'''\n",
    "\n",
    "TEST_CODE2 = '''\n",
    "\n",
    "cursor1.execute(\"select ID,D1_Hcode,D1_Location,D1_Actual_Activity,D1_Working_Var,concat(prevstation,' to ',D1_Location) as leg from leg where D1_Working_Var<=0 and D1_Actual_Activity not in ('DEPART') order by D1_Working_Var asc limit 10 \")'''\n",
    "\n",
    "TEST_CODE3 = '''\n",
    "\n",
    "cursor1.execute(\"select  sum(D1_Working_Var) as total_variance_Hcode ,D1_Hcode  from dayonedaily2_df_updated2  group by D1_Hcode order by total_variance_Hcode asc limit 10\")'''\n",
    "\n",
    "TEST_CODE4 = '''\n",
    "\n",
    "cursor1.execute(\"select  D1_Hcode,D1_Location,D1_Actual_Activity,D1_Working_Var from dayonedaily2_df_updated2 where D1_Actual_Activity ='ARRIVE'or D1_Actual_Activity='TERMINUS' order by D1_Working_Var desc limit 10\")'''\n",
    "\n",
    "TEST_CODE5 = '''\n",
    "\n",
    "cursor1.execute(\"select floor(avg(D1_Working_Var))  as m,concat(prevstation,' to ',D1_Location) as leg from leg where  D1_Actual_Activity not in ('DEPART','ORIGIN') group by leg order by m desc limit 10\")'''\n",
    "\n",
    "\n",
    "\n",
    "TEST_CODE6 = '''\n",
    "\n",
    "cursor1.execute(\"select  sum(D1_Working_Var) as total_variance_Hcode ,D1_Hcode  from dayonedaily2_df_updated2  group by D1_Hcode order by total_variance_Hcode desc limit 10\")'''\n",
    "\n"
   ]
  },
  {
   "cell_type": "code",
   "execution_count": 140,
   "id": "f7e3778f",
   "metadata": {},
   "outputs": [],
   "source": [
    "MariaDB_Timings=TimeOfExecutionRecording(SETUP_CODE,TEST_CODE1,TEST_CODE2,TEST_CODE3,TEST_CODE4,TEST_CODE5,TEST_CODE6)"
   ]
  },
  {
   "cell_type": "code",
   "execution_count": 141,
   "id": "e0d3a307",
   "metadata": {},
   "outputs": [],
   "source": [
    "MariaDB_Timings['Db']='Maria'"
   ]
  },
  {
   "cell_type": "code",
   "execution_count": 142,
   "id": "0e8c8baf",
   "metadata": {},
   "outputs": [],
   "source": [
    "SETUP_CODE = '''\n",
    "from MyFunction_FinalProject import Sqlite_db\n",
    "cursor2=Sqlite_db() # MSQL connection'''\n",
    "\n",
    "TEST_CODE1 = '''\n",
    "\n",
    "cursor2.execute(\"select * from dayonedaily2_df_updated2  where D1_Working_Var<=0 and D1_Actual_Activity in ('TERMINUS','ARRIVE')order by D1_Working_Var asc limit 10;\")'''\n",
    "\n",
    "TEST_CODE2 = '''\n",
    "\n",
    "cursor2.execute(\"select ID,D1_Hcode,D1_Location,D1_Actual_Activity,D1_Working_Var,(prevstation||' to '||D1_Location) as leg from leg where D1_Working_Var<=0 and D1_Actual_Activity not in ('DEPART') order by D1_Working_Var asc limit 10 ;\")'''\n",
    "\n",
    "TEST_CODE3 = '''\n",
    "\n",
    "cursor2.execute(\"select  sum(D1_Working_Var) as total_variance_Hcode ,D1_Hcode  from dayonedaily2_df_updated2  group by D1_Hcode order by total_variance_Hcode asc limit 10;\")'''\n",
    "\n",
    "TEST_CODE4 = '''\n",
    "\n",
    "cursor2.execute(\"SELECT  D1_Hcode,D1_Location,D1_Actual_Activity,D1_Working_Var from dayonedaily2_df_updated2 where D1_Actual_Activity ='ARRIVE'or D1_Actual_Activity='TERMINUS' order by D1_Working_Var desc limit 10;\")'''\n",
    "\n",
    "TEST_CODE5 = '''\n",
    "\n",
    "cursor2.execute(\"select ID,D1_Hcode,D1_Location,D1_Actual_Activity,D1_Working_Var,(prevstation||' to '||D1_Location) as leg from leg where  D1_Actual_Activity not in ('DEPART','ORIGIN') order by D1_Working_Var desc limit 10 ;\")'''\n",
    "\n",
    "\n",
    "\n",
    "TEST_CODE6 = '''\n",
    "\n",
    "cursor2.execute(\"select  sum(D1_Working_Var) as total_variance_Hcode ,D1_Hcode  from dayonedaily2_df_updated2  group by D1_Hcode order by total_variance_Hcode desc limit 10;\")'''\n",
    "\n",
    "\n",
    "\n"
   ]
  },
  {
   "cell_type": "code",
   "execution_count": 143,
   "id": "095a6ea2",
   "metadata": {},
   "outputs": [],
   "source": [
    "SQlite_Timings=TimeOfExecutionRecording(SETUP_CODE,TEST_CODE1,TEST_CODE2,TEST_CODE3,TEST_CODE4,TEST_CODE5,TEST_CODE6)"
   ]
  },
  {
   "cell_type": "code",
   "execution_count": 144,
   "id": "a69d6c88",
   "metadata": {},
   "outputs": [],
   "source": [
    "SQlite_Timings['Db']='SQlite'"
   ]
  },
  {
   "cell_type": "code",
   "execution_count": 145,
   "id": "7ddc4859",
   "metadata": {},
   "outputs": [],
   "source": [
    "Timings=pd.concat([Mysql_Timings,MariaDB_Timings,SQlite_Timings])"
   ]
  },
  {
   "cell_type": "code",
   "execution_count": 146,
   "id": "f150236d",
   "metadata": {},
   "outputs": [],
   "source": [
    "Timings['Mean']=Timings.mean(axis=1)"
   ]
  },
  {
   "cell_type": "markdown",
   "id": "db5dfb32",
   "metadata": {},
   "source": [
    "## DATA VISUALISATION OF BENCHMARKING OF DATABASE"
   ]
  },
  {
   "cell_type": "code",
   "execution_count": 168,
   "id": "f1380047",
   "metadata": {},
   "outputs": [
    {
     "data": {
      "image/png": "[encoded data removed]",
      "text/plain": [
       "<Figure size 360x360 with 1 Axes>"
      ]
     },
     "metadata": {},
     "output_type": "display_data"
    }
   ],
   "source": [
    "with sns.axes_style(style='ticks'):\n",
    "    g = sns.factorplot(\"Db\", \"Mean\", \"Db\", data=Timings, kind=\"box\")\n",
    "    g.set(xlabel=\"DataBase\",ylabel=\"Mean Time (sec)\",title=\"Mean Execution Time of all queries Vs DB\")"
   ]
  },
  {
   "cell_type": "markdown",
   "id": "b9d889b3",
   "metadata": {},
   "source": [
    "# FINDING THE FUTURE DELAY IN THE TRAIN USING FIRST THREE LEGS"
   ]
  },
  {
   "cell_type": "markdown",
   "id": "8f31e606",
   "metadata": {},
   "source": [
    "## Loading dataset"
   ]
  },
  {
   "cell_type": "code",
   "execution_count": 5,
   "id": "cc31a5b0",
   "metadata": {},
   "outputs": [],
   "source": [
    "dayonedaily2_df=pd.read_excel('DAYONEDaily2.xlsx')"
   ]
  },
  {
   "cell_type": "markdown",
   "id": "a42c893f",
   "metadata": {},
   "source": [
    "## Initial cleaning of dataset"
   ]
  },
  {
   "cell_type": "code",
   "execution_count": 10,
   "id": "0fda3039",
   "metadata": {},
   "outputs": [],
   "source": [
    "dayonedaily2_df=initial_cleaning(dayonedaily2_df)"
   ]
  },
  {
   "cell_type": "markdown",
   "id": "576e820c",
   "metadata": {},
   "source": [
    "## To check the proper distribution of data in the dataset and filter out values"
   ]
  },
  {
   "cell_type": "code",
   "execution_count": 11,
   "id": "d3c79c7c",
   "metadata": {},
   "outputs": [
    {
     "data": {
      "text/html": [
       "<div>\n",
       "<style scoped>\n",
       "    .dataframe tbody tr th:only-of-type {\n",
       "        vertical-align: middle;\n",
       "    }\n",
       "\n",
       "    .dataframe tbody tr th {\n",
       "        vertical-align: top;\n",
       "    }\n",
       "\n",
       "    .dataframe thead th {\n",
       "        text-align: right;\n",
       "    }\n",
       "</style>\n",
       "<table border=\"1\" class=\"dataframe\">\n",
       "  <thead>\n",
       "    <tr style=\"text-align: right;\">\n",
       "      <th></th>\n",
       "      <th>ID</th>\n",
       "      <th>D1_Hcode</th>\n",
       "      <th>D1_Origin</th>\n",
       "      <th>D1_Dest</th>\n",
       "      <th>D1_Location</th>\n",
       "      <th>D1_Planned_Activity</th>\n",
       "      <th>D1_Working_Var</th>\n",
       "    </tr>\n",
       "  </thead>\n",
       "  <tbody>\n",
       "    <tr>\n",
       "      <th>0</th>\n",
       "      <td>1</td>\n",
       "      <td>882Y8610</td>\n",
       "      <td>CHARING X</td>\n",
       "      <td>ASHFORDI</td>\n",
       "      <td>CHARING X</td>\n",
       "      <td>O</td>\n",
       "      <td>-18.0</td>\n",
       "    </tr>\n",
       "    <tr>\n",
       "      <th>1</th>\n",
       "      <td>2</td>\n",
       "      <td>882Y8610</td>\n",
       "      <td>CHARING X</td>\n",
       "      <td>ASHFORDI</td>\n",
       "      <td>WATERLOOE</td>\n",
       "      <td>A</td>\n",
       "      <td>15.0</td>\n",
       "    </tr>\n",
       "    <tr>\n",
       "      <th>3</th>\n",
       "      <td>4</td>\n",
       "      <td>882Y8610</td>\n",
       "      <td>CHARING X</td>\n",
       "      <td>ASHFORDI</td>\n",
       "      <td>EWER ST J</td>\n",
       "      <td>P</td>\n",
       "      <td>0.0</td>\n",
       "    </tr>\n",
       "    <tr>\n",
       "      <th>4</th>\n",
       "      <td>5</td>\n",
       "      <td>882Y8610</td>\n",
       "      <td>CHARING X</td>\n",
       "      <td>ASHFORDI</td>\n",
       "      <td>LONDONBDG</td>\n",
       "      <td>A</td>\n",
       "      <td>22.0</td>\n",
       "    </tr>\n",
       "    <tr>\n",
       "      <th>6</th>\n",
       "      <td>7</td>\n",
       "      <td>882Y8610</td>\n",
       "      <td>CHARING X</td>\n",
       "      <td>ASHFORDI</td>\n",
       "      <td>BLUEANCHR</td>\n",
       "      <td>P</td>\n",
       "      <td>-8.0</td>\n",
       "    </tr>\n",
       "    <tr>\n",
       "      <th>...</th>\n",
       "      <td>...</td>\n",
       "      <td>...</td>\n",
       "      <td>...</td>\n",
       "      <td>...</td>\n",
       "      <td>...</td>\n",
       "      <td>...</td>\n",
       "      <td>...</td>\n",
       "    </tr>\n",
       "    <tr>\n",
       "      <th>53369</th>\n",
       "      <td>53370</td>\n",
       "      <td>892D77M9</td>\n",
       "      <td>SITTINGBN</td>\n",
       "      <td>SHEERNESS</td>\n",
       "      <td>EASTERNJN</td>\n",
       "      <td>P</td>\n",
       "      <td>59.0</td>\n",
       "    </tr>\n",
       "    <tr>\n",
       "      <th>53370</th>\n",
       "      <td>53371</td>\n",
       "      <td>892D77M9</td>\n",
       "      <td>SITTINGBN</td>\n",
       "      <td>SHEERNESS</td>\n",
       "      <td>KEMSLEY</td>\n",
       "      <td>A</td>\n",
       "      <td>37.0</td>\n",
       "    </tr>\n",
       "    <tr>\n",
       "      <th>53372</th>\n",
       "      <td>53373</td>\n",
       "      <td>892D77M9</td>\n",
       "      <td>SITTINGBN</td>\n",
       "      <td>SHEERNESS</td>\n",
       "      <td>SWALE</td>\n",
       "      <td>A</td>\n",
       "      <td>21.0</td>\n",
       "    </tr>\n",
       "    <tr>\n",
       "      <th>53374</th>\n",
       "      <td>53375</td>\n",
       "      <td>892D77M9</td>\n",
       "      <td>SITTINGBN</td>\n",
       "      <td>SHEERNESS</td>\n",
       "      <td>QUEENBORO</td>\n",
       "      <td>A</td>\n",
       "      <td>45.0</td>\n",
       "    </tr>\n",
       "    <tr>\n",
       "      <th>53376</th>\n",
       "      <td>53377</td>\n",
       "      <td>892D77M9</td>\n",
       "      <td>SITTINGBN</td>\n",
       "      <td>SHEERNESS</td>\n",
       "      <td>SHEERNESS</td>\n",
       "      <td>T</td>\n",
       "      <td>29.0</td>\n",
       "    </tr>\n",
       "  </tbody>\n",
       "</table>\n",
       "<p>33730 rows × 7 columns</p>\n",
       "</div>"
      ],
      "text/plain": [
       "          ID  D1_Hcode  D1_Origin    D1_Dest D1_Location D1_Planned_Activity  \\\n",
       "0          1  882Y8610  CHARING X   ASHFORDI   CHARING X                   O   \n",
       "1          2  882Y8610  CHARING X   ASHFORDI   WATERLOOE                   A   \n",
       "3          4  882Y8610  CHARING X   ASHFORDI   EWER ST J                   P   \n",
       "4          5  882Y8610  CHARING X   ASHFORDI   LONDONBDG                   A   \n",
       "6          7  882Y8610  CHARING X   ASHFORDI   BLUEANCHR                   P   \n",
       "...      ...       ...        ...        ...         ...                 ...   \n",
       "53369  53370  892D77M9  SITTINGBN  SHEERNESS   EASTERNJN                   P   \n",
       "53370  53371  892D77M9  SITTINGBN  SHEERNESS     KEMSLEY                   A   \n",
       "53372  53373  892D77M9  SITTINGBN  SHEERNESS       SWALE                   A   \n",
       "53374  53375  892D77M9  SITTINGBN  SHEERNESS   QUEENBORO                   A   \n",
       "53376  53377  892D77M9  SITTINGBN  SHEERNESS   SHEERNESS                   T   \n",
       "\n",
       "      D1_Working_Var  \n",
       "0              -18.0  \n",
       "1               15.0  \n",
       "3                0.0  \n",
       "4               22.0  \n",
       "6               -8.0  \n",
       "...              ...  \n",
       "53369           59.0  \n",
       "53370           37.0  \n",
       "53372           21.0  \n",
       "53374           45.0  \n",
       "53376           29.0  \n",
       "\n",
       "[33730 rows x 7 columns]"
      ]
     },
     "execution_count": 11,
     "metadata": {},
     "output_type": "execute_result"
    }
   ],
   "source": [
    "dayonedaily2_df= Dataset_preparation_for_LR_state1(dayonedaily2_df)\n",
    "dayonedaily2_df"
   ]
  },
  {
   "cell_type": "markdown",
   "id": "a8c8f29c",
   "metadata": {},
   "source": [
    "## Making Dataset with Columns D1_Working_Var1,D1_Working_Var2,D1_Working_Var3,D1_Working_Var_Final For Model Training"
   ]
  },
  {
   "cell_type": "code",
   "execution_count": 12,
   "id": "4085a189",
   "metadata": {},
   "outputs": [],
   "source": [
    "dayonedaily2_df=Dataset_preparation_for_LR_stage2(dayonedaily2_df)"
   ]
  },
  {
   "cell_type": "code",
   "execution_count": 13,
   "id": "11b60c36",
   "metadata": {},
   "outputs": [
    {
     "data": {
      "text/html": [
       "<div>\n",
       "<style scoped>\n",
       "    .dataframe tbody tr th:only-of-type {\n",
       "        vertical-align: middle;\n",
       "    }\n",
       "\n",
       "    .dataframe tbody tr th {\n",
       "        vertical-align: top;\n",
       "    }\n",
       "\n",
       "    .dataframe thead th {\n",
       "        text-align: right;\n",
       "    }\n",
       "</style>\n",
       "<table border=\"1\" class=\"dataframe\">\n",
       "  <thead>\n",
       "    <tr style=\"text-align: right;\">\n",
       "      <th></th>\n",
       "      <th>D1_Hcode</th>\n",
       "      <th>D1_Working_Var_1</th>\n",
       "      <th>D1_Working_Var_2</th>\n",
       "      <th>D1_Working_Var_3</th>\n",
       "      <th>D1_Working_Var_Final</th>\n",
       "    </tr>\n",
       "  </thead>\n",
       "  <tbody>\n",
       "    <tr>\n",
       "      <th>0</th>\n",
       "      <td>882Y8610</td>\n",
       "      <td>-18.0</td>\n",
       "      <td>15.0</td>\n",
       "      <td>0.0</td>\n",
       "      <td>90.0</td>\n",
       "    </tr>\n",
       "    <tr>\n",
       "      <th>1</th>\n",
       "      <td>892H6610</td>\n",
       "      <td>6.0</td>\n",
       "      <td>-24.0</td>\n",
       "      <td>-38.0</td>\n",
       "      <td>-125.0</td>\n",
       "    </tr>\n",
       "    <tr>\n",
       "      <th>2</th>\n",
       "      <td>882L82M0</td>\n",
       "      <td>-8.0</td>\n",
       "      <td>-55.0</td>\n",
       "      <td>-59.0</td>\n",
       "      <td>-182.0</td>\n",
       "    </tr>\n",
       "    <tr>\n",
       "      <th>3</th>\n",
       "      <td>882S82M0</td>\n",
       "      <td>-5.0</td>\n",
       "      <td>-10.0</td>\n",
       "      <td>-39.0</td>\n",
       "      <td>80.0</td>\n",
       "    </tr>\n",
       "    <tr>\n",
       "      <th>4</th>\n",
       "      <td>882K83M0</td>\n",
       "      <td>-96.0</td>\n",
       "      <td>-62.0</td>\n",
       "      <td>-38.0</td>\n",
       "      <td>-52.0</td>\n",
       "    </tr>\n",
       "    <tr>\n",
       "      <th>...</th>\n",
       "      <td>...</td>\n",
       "      <td>...</td>\n",
       "      <td>...</td>\n",
       "      <td>...</td>\n",
       "      <td>...</td>\n",
       "    </tr>\n",
       "    <tr>\n",
       "      <th>1522</th>\n",
       "      <td>881V70M9</td>\n",
       "      <td>-1.0</td>\n",
       "      <td>0.0</td>\n",
       "      <td>-16.0</td>\n",
       "      <td>552.0</td>\n",
       "    </tr>\n",
       "    <tr>\n",
       "      <th>1523</th>\n",
       "      <td>882A77M9</td>\n",
       "      <td>103.0</td>\n",
       "      <td>95.0</td>\n",
       "      <td>114.0</td>\n",
       "      <td>105.0</td>\n",
       "    </tr>\n",
       "    <tr>\n",
       "      <th>1524</th>\n",
       "      <td>882K77M9</td>\n",
       "      <td>480.0</td>\n",
       "      <td>464.0</td>\n",
       "      <td>492.0</td>\n",
       "      <td>426.0</td>\n",
       "    </tr>\n",
       "    <tr>\n",
       "      <th>1525</th>\n",
       "      <td>882S83M9</td>\n",
       "      <td>17.0</td>\n",
       "      <td>5.0</td>\n",
       "      <td>22.0</td>\n",
       "      <td>451.0</td>\n",
       "    </tr>\n",
       "    <tr>\n",
       "      <th>1526</th>\n",
       "      <td>892D77M9</td>\n",
       "      <td>16.0</td>\n",
       "      <td>59.0</td>\n",
       "      <td>37.0</td>\n",
       "      <td>29.0</td>\n",
       "    </tr>\n",
       "  </tbody>\n",
       "</table>\n",
       "<p>1527 rows × 5 columns</p>\n",
       "</div>"
      ],
      "text/plain": [
       "      D1_Hcode  D1_Working_Var_1 D1_Working_Var_2 D1_Working_Var_3  \\\n",
       "0     882Y8610             -18.0             15.0              0.0   \n",
       "1     892H6610               6.0            -24.0            -38.0   \n",
       "2     882L82M0              -8.0            -55.0            -59.0   \n",
       "3     882S82M0              -5.0            -10.0            -39.0   \n",
       "4     882K83M0             -96.0            -62.0            -38.0   \n",
       "...        ...               ...              ...              ...   \n",
       "1522  881V70M9              -1.0              0.0            -16.0   \n",
       "1523  882A77M9             103.0             95.0            114.0   \n",
       "1524  882K77M9             480.0            464.0            492.0   \n",
       "1525  882S83M9              17.0              5.0             22.0   \n",
       "1526  892D77M9              16.0             59.0             37.0   \n",
       "\n",
       "      D1_Working_Var_Final  \n",
       "0                     90.0  \n",
       "1                   -125.0  \n",
       "2                   -182.0  \n",
       "3                     80.0  \n",
       "4                    -52.0  \n",
       "...                    ...  \n",
       "1522                 552.0  \n",
       "1523                 105.0  \n",
       "1524                 426.0  \n",
       "1525                 451.0  \n",
       "1526                  29.0  \n",
       "\n",
       "[1527 rows x 5 columns]"
      ]
     },
     "execution_count": 13,
     "metadata": {},
     "output_type": "execute_result"
    }
   ],
   "source": [
    "dayonedaily2_df"
   ]
  },
  {
   "cell_type": "markdown",
   "id": "4cb50c3e",
   "metadata": {},
   "source": [
    "## DataVisualisation Of Dataframe "
   ]
  },
  {
   "cell_type": "markdown",
   "id": "e75bf27e",
   "metadata": {},
   "source": [
    "# Grid to show correlation "
   ]
  },
  {
   "cell_type": "code",
   "execution_count": 22,
   "id": "13137554",
   "metadata": {},
   "outputs": [
    {
     "data": {
      "image/png": "[encoded data removed]",
      "text/plain": [
       "<Figure size 728x720 with 16 Axes>"
      ]
     },
     "metadata": {
      "needs_background": "light"
     },
     "output_type": "display_data"
    }
   ],
   "source": [
    "g = sns.PairGrid(dayonedaily2_df, vars=['D1_Working_Var_1', 'D1_Working_Var_2', 'D1_Working_Var_3', 'D1_Working_Var_Final'],\n",
    "                  palette='RdBu_r')\n",
    "g.map(plt.scatter, alpha=.8)\n",
    "g.add_legend();"
   ]
  },
  {
   "cell_type": "markdown",
   "id": "44e53049",
   "metadata": {},
   "source": [
    "## Showing Correlation between D1_Working_Var_Final and D1_Working_Var_1"
   ]
  },
  {
   "cell_type": "code",
   "execution_count": 15,
   "id": "7d853708",
   "metadata": {},
   "outputs": [
    {
     "data": {
      "text/plain": [
       "<seaborn.axisgrid.FacetGrid at 0x17d50606b50>"
      ]
     },
     "execution_count": 15,
     "metadata": {},
     "output_type": "execute_result"
    },
    {
     "data": {
      "image/png": "[encoded data removed]",
      "text/plain": [
       "<Figure size 360x360 with 1 Axes>"
      ]
     },
     "metadata": {
      "needs_background": "light"
     },
     "output_type": "display_data"
    }
   ],
   "source": [
    "sns.relplot(x='D1_Working_Var_1',y='D1_Working_Var_Final',data=dayonedaily2_df)"
   ]
  },
  {
   "cell_type": "markdown",
   "id": "d1ed80a9",
   "metadata": {},
   "source": [
    "## Splitting Into X and Y Dataset for training"
   ]
  },
  {
   "cell_type": "code",
   "execution_count": 16,
   "id": "be2f8f88",
   "metadata": {},
   "outputs": [],
   "source": [
    "X,Y=Dataset_preparation_for_LR_stage3_Mapping(dayonedaily2_df)"
   ]
  },
  {
   "cell_type": "code",
   "execution_count": 183,
   "id": "93acd7de",
   "metadata": {},
   "outputs": [],
   "source": [
    "X_train, X_test, y_train, y_test = train_test_split(X, Y, test_size=0.30, random_state=12)"
   ]
  },
  {
   "cell_type": "markdown",
   "id": "36f610bf",
   "metadata": {},
   "source": [
    "## Training and Testing Model"
   ]
  },
  {
   "cell_type": "code",
   "execution_count": 184,
   "id": "35ab5445",
   "metadata": {},
   "outputs": [],
   "source": [
    "lr=linear_model.LinearRegression()\n",
    "lr.fit(X_train,y_train)\n",
    "y_pred = lr.predict(X_test)"
   ]
  },
  {
   "cell_type": "markdown",
   "id": "5a18be13",
   "metadata": {},
   "source": [
    "## Mean Square Error and Variance score"
   ]
  },
  {
   "cell_type": "code",
   "execution_count": 185,
   "id": "cd109b73",
   "metadata": {},
   "outputs": [
    {
     "name": "stdout",
     "output_type": "stream",
     "text": [
      "Coefficients: \n",
      " [[ 1.00000000e+00  6.48859220e-16 -4.41941719e-15]]\n",
      "Mean squared error: 0.00\n",
      "Variance score: 1.00\n"
     ]
    }
   ],
   "source": [
    "# The coefficients\n",
    "print('Coefficients: \\n', lr.coef_)\n",
    "# The mean squared error\n",
    "print(\"Mean squared error: %.2f\"\n",
    "      % mean_squared_error(y_test, y_pred))\n",
    "# Explained variance score: 1 is perfect prediction\n",
    "print('Variance score: %.2f' % r2_score(y_test, y_pred))"
   ]
  },
  {
   "cell_type": "code",
   "execution_count": 186,
   "id": "fef3aad6",
   "metadata": {},
   "outputs": [
    {
     "data": {
      "image/png": "[encoded data removed]",
      "text/plain": [
       "<Figure size 576x576 with 1 Axes>"
      ]
     },
     "metadata": {
      "needs_background": "light"
     },
     "output_type": "display_data"
    }
   ],
   "source": [
    "plt.plot(y_test, y_pred, color='blue', linewidth=3)\n",
    "\n",
    "plt.xlabel(\"y_test\")\n",
    "plt.ylabel(\"y_Pred\")\n",
    "\n",
    "plt.show()"
   ]
  },
  {
   "cell_type": "code",
   "execution_count": 187,
   "id": "523cef94",
   "metadata": {},
   "outputs": [],
   "source": [
    "def Future_prediction(t):\n",
    "    res=[]\n",
    "    for i in range(len(t)):\n",
    "        if t[i]>0:\n",
    "            res.append(1)\n",
    "        else:\n",
    "            res.append(0) \n",
    "    r=lr.predict([res])\n",
    "    if r==1:\n",
    "        print(\"Will be Late\")\n",
    "    else :\n",
    "        print(\"Not Late\")\n",
    "    \n",
    "    return r"
   ]
  },
  {
   "cell_type": "markdown",
   "id": "b8b8b821",
   "metadata": {},
   "source": [
    "## Future Prediction"
   ]
  },
  {
   "cell_type": "code",
   "execution_count": 188,
   "id": "52a9a375",
   "metadata": {},
   "outputs": [
    {
     "name": "stdout",
     "output_type": "stream",
     "text": [
      "Not Late\n"
     ]
    }
   ],
   "source": [
    "t=[0,7,8]\n",
    "\n",
    "t=Future_prediction(t)"
   ]
  },
  {
   "cell_type": "code",
   "execution_count": null,
   "id": "4e0433ca",
   "metadata": {},
   "outputs": [],
   "source": []
  }
 ],
 "metadata": {
  "kernelspec": {
   "display_name": "Python 3 (ipykernel)",
   "language": "python",
   "name": "python3"
  },
  "language_info": {
   "codemirror_mode": {
    "name": "ipython",
    "version": 3
   },
   "file_extension": ".py",
   "mimetype": "text/x-python",
   "name": "python",
   "nbconvert_exporter": "python",
   "pygments_lexer": "ipython3",
   "version": "3.9.7"
  }
 },
 "nbformat": 4,
 "nbformat_minor": 5
}
